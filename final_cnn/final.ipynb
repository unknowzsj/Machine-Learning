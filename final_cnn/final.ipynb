{
 "metadata": {
  "language_info": {
   "codemirror_mode": {
    "name": "ipython",
    "version": 3
   },
   "file_extension": ".py",
   "mimetype": "text/x-python",
   "name": "python",
   "nbconvert_exporter": "python",
   "pygments_lexer": "ipython3",
   "version": "3.7.9-final"
  },
  "orig_nbformat": 2,
  "kernelspec": {
   "name": "python3",
   "display_name": "Python 3.7.9 64-bit ('tf2': conda)",
   "metadata": {
    "interpreter": {
     "hash": "865b91303c0655b63e42c5d03cbd424f89ab1078fc8eeb577e3059958e267924"
    }
   }
  }
 },
 "nbformat": 4,
 "nbformat_minor": 2,
 "cells": [
  {
   "cell_type": "code",
   "execution_count": 1,
   "metadata": {},
   "outputs": [],
   "source": [
    "# 包导入\n",
    "import tensorflow as tf \n",
    "from tensorflow import keras\n",
    "import numpy as np\n",
    "import random\n",
    "import matplotlib.pyplot as plt"
   ]
  },
  {
   "cell_type": "code",
   "execution_count": null,
   "metadata": {},
   "outputs": [],
   "source": [
    "# 数据生成的参数设置\n",
    "# #\n",
    "hour_rate = [0.23, 0.12, 0.09, 0.10, 0.07, 0.12, 0.18, 0.23, 0.40, 0.53, 0.34, 0.28, \n",
    "             0.55, 0.58, 0.45, 0.29, 0.24, 0.23, 0.55, 0.67, 0.68, 0.43, 0.25, 0.22]\n",
    "people = 300.0\n",
    "down_flow = 5000.0\n",
    "up_flow = 100.0\n",
    "file_path = \"data.tfrecord\""
   ]
  },
  {
   "cell_type": "code",
   "execution_count": null,
   "metadata": {},
   "outputs": [],
   "source": [
    "# 数据处理\n",
    "# 验证小区上的流量，标签为小区下一个小时流量\n",
    "# y_true为小区下个小时的流量\n",
    "# 数据集为[24,4]的张量，将([i,3]+[i,4])=y_train[]\n",
    "# 数据为：平均人数，最大人数，上行流量，下行流量，总流量（标签）\n",
    "# 用于训练时总流量要向后移动一小时\n",
    "# #\n",
    "\n",
    "# 写数据到TFrecord文件\n",
    "# #\n",
    "# 生成首个数据，接下来的数据在前23小时上加一小时\n",
    "first_day = np.zeros(120)\n",
    "all_day = np.zeros(1200000)\n",
    "for i in range(0, 24):\n",
    "    avg_people = hour_rate[i%24] * random.randint(3, 7) * people / 10\n",
    "    max_people = avg_people * random.randint(2, 5)\n",
    "    down_f = hour_rate[i%24] * random.randint(3, 7) * down_flow / 10\n",
    "    up_f = hour_rate[i%24] * random.randint(3, 7) *  up_flow / 10\n",
    "    first_day[i*5] = avg_people\n",
    "    first_day[i*5+1] = max_people\n",
    "    first_day[i*5+2] = up_f\n",
    "    first_day[i*5+3] = down_f\n",
    "    first_day[i*5+4] = (avg_people * 1.2)\n",
    "\n",
    "# 储存第一组数据到总数据数组\n",
    "for i in range(0, 120):\n",
    "    all_day[i] = first_day[i] \n",
    "\n",
    "pre_day = first_day\n",
    "for j in range(1, 10000):\n",
    "    next_day = np.zeros(120)\n",
    "    for m in range(0, 115):\n",
    "        next_day[m] = pre_day[m+5]\n",
    "        #输入新加的5个数据\n",
    "        avg_people = hour_rate[j%24] * random.randint(3, 7) * people / 10\n",
    "        max_people = avg_people * random.randint(2, 5) / 10\n",
    "        down_f = hour_rate[j%24] * random.randint(3, 7) * down_flow / 10\n",
    "        up_f = hour_rate[j%24] * random.randint(3, 7) *  up_flow / 10\n",
    "        next_day[115] = avg_people\n",
    "        next_day[116] = max_people\n",
    "        next_day[117] = up_f\n",
    "        next_day[118] = down_f\n",
    "        next_day[119] = (avg_people * 1.2)\n",
    "    for n in range(0, 120):\n",
    "        all_day[j*120+n] = next_day[n]\n",
    "    pre_day = next_day\n",
    "# 写入数据\n",
    "with tf.io.TFRecordWriter(file_path) as files:\n",
    "    # 第一个数据的写入\n",
    "    example_first = tf.train.Example(\n",
    "        features=tf.train.Features(\n",
    "            feature={\n",
    "                \"data\": tf.train.Feature(\n",
    "                    float_list=tf.train.FloatList(value=all_day))\n",
    "                }))\n",
    "    files.write(example_first.SerializePartialToString())\n",
    "    \n"
   ]
  },
  {
   "cell_type": "code",
   "execution_count": null,
   "metadata": {},
   "outputs": [],
   "source": [
    "# 读数据函数,返回解析后的结果\n",
    "def read_datas(filepath):\n",
    "    feature_description = {\n",
    "        \"data\": tf.io.VarLenFeature(dtype=float)\n",
    "    }\n",
    "\n",
    "    file_dataset = tf.data.TFRecordDataset(filepath).batch(5)\n",
    "\n",
    "    for serialized_example in file_dataset:\n",
    "        parsed_example = tf.io.parse_example(serialized_example,                                                                                                       feature_description)\n",
    "    \n",
    "    return parsed_example"
   ]
  },
  {
   "cell_type": "code",
   "execution_count": null,
   "metadata": {},
   "outputs": [],
   "source": [
    "# 数组归一化\n",
    "def maxminnorm(array):\n",
    "    maxcols = array.max(axis=0)\n",
    "    mincols = array.min(axis=0)\n",
    "    data_shape = array.shape\n",
    "    data_rows = data_shape[0]\n",
    "    data_cols = data_shape[1]\n",
    "    t = np.empty((data_rows,data_cols))\n",
    "    for i in range(data_cols):\n",
    "        t[:,i]=(array[:,i]-mincols[i])/(maxcols[i]-mincols[i])\n",
    "    return t"
   ]
  },
  {
   "cell_type": "code",
   "execution_count": null,
   "metadata": {},
   "outputs": [],
   "source": [
    "# 读取数据并简单处理\n",
    "datas = read_datas(file_path)[\"data\"].values\n",
    "reshape_datas = tf.reshape(datas, [240000,5])\n",
    "x_data = reshape_datas[0:240000,0:4]\n",
    "x_array = np.array(x_data)\n",
    "y_data = tf.reshape(reshape_datas[0:240000,4], [240000,1])\n",
    "y_array = np.array(y_data)\n",
    "\n",
    "print(x_array.shape)\n",
    "print(y_array.shape)"
   ]
  },
  {
   "cell_type": "code",
   "execution_count": null,
   "metadata": {},
   "outputs": [],
   "source": [
    "# 两天的人数流量的绘制\n",
    "y = np.zeros(shape=[120])\n",
    "for i in range(0, 120):\n",
    "    y_all_data = np.zeros(shape=[1])\n",
    "    y_all_data[0] = y_array[i*24+1]\n",
    "    y[i] = y_all_data\n",
    "\n",
    "x = np.linspace(1,120,120)\n",
    "plt.plot(x,y)\n",
    "plt.show()"
   ]
  },
  {
   "cell_type": "code",
   "execution_count": null,
   "metadata": {
    "tags": []
   },
   "outputs": [],
   "source": [
    "# 特征数据的处理\n",
    "X_all = np.zeros(shape=[10000,1,24,4,1])\n",
    "for g in range(0, 10000):\n",
    "    data_4 = np.zeros(shape=[1,24,4,1])\n",
    "    for i in range(0, 24):\n",
    "        for j in range(0, 4):\n",
    "            data_4[0,i,j,0] = x_array[i+24*g,j]\n",
    "    X_all[g] = data_4\n",
    "X_all = X_all[0:9999,:,:,:,:]\n",
    "print(X_all.shape)"
   ]
  },
  {
   "cell_type": "code",
   "execution_count": null,
   "metadata": {
    "tags": []
   },
   "outputs": [],
   "source": [
    "# y_all是每个数据张量的下一个数据张量的第一行第五列\n",
    "Y_all = np.zeros(shape=[9999,1])\n",
    "for i in range(0, 9999):\n",
    "    y_all_data = np.zeros(shape=[1])\n",
    "    y_all_data[0] = y_array[(i+1)*24+1]\n",
    "    Y_all[i] = y_all_data\n",
    "print(Y_all.shape)"
   ]
  },
  {
   "cell_type": "code",
   "execution_count": null,
   "metadata": {
    "tags": []
   },
   "outputs": [],
   "source": [
    "# 生成训练输入\n",
    "x_train = X_all[0:7000,:,:,:,:]\n",
    "y_train = Y_all[0:7000]\n",
    "X_train = tf.data.Dataset.from_tensor_slices((x_train,y_train))\n",
    "print(X_train)\n",
    "\n",
    "# 生成验证输入\n",
    "x_eva = X_all[7000:9000,:,:,:,:]\n",
    "y_eva = Y_all[7000:9000]\n",
    "X_eva = tf.data.Dataset.from_tensor_slices((x_eva,y_eva))\n",
    "print(X_eva)\n",
    "\n",
    "# 生成验证输入\n",
    "x_test = X_all[9000:9999,:,:,:,:]\n",
    "y_test = Y_all[9000:9999]\n",
    "X_test = tf.data.Dataset.from_tensor_slices((x_test,y_test))\n",
    "print(X_test)"
   ]
  },
  {
   "cell_type": "code",
   "execution_count": null,
   "metadata": {},
   "outputs": [],
   "source": [
    "#############################################模型构建####################################################################"
   ]
  },
  {
   "cell_type": "code",
   "execution_count": null,
   "metadata": {},
   "outputs": [],
   "source": [
    "# CNN模块创建\n",
    "# 步频为1，输入输出的空间维度不变[24,4]\n",
    "udn_model = keras.models.Sequential([\n",
    "    keras.layers.Conv2D(128, 2, activation=\"relu\", padding=\"same\",\n",
    "                         input_shape=[24, 4, 1]),\n",
    "    keras.layers.Conv2D(64, 2, activation=\"relu\", padding=\"same\"),\n",
    "    keras.layers.Conv2D(32, 2, activation=\"relu\", padding=\"same\"),\n",
    "    keras.layers.Conv2D(32, 2, activation=\"relu\", padding=\"same\"),\n",
    "    keras.layers.MaxPool2D(2),\n",
    "    keras.layers.Conv2D(16, 2, activation=\"relu\", padding=\"same\"),\n",
    "    keras.layers.Flatten(),\n",
    "    keras.layers.Dense(128, activation=\"relu\"),\n",
    "    keras.layers.Dropout(0.5),\n",
    "    keras.layers.Dense(1, activation=\"relu\")\n",
    "])\n",
    "\n",
    "udn_model.summary()"
   ]
  },
  {
   "cell_type": "code",
   "execution_count": null,
   "metadata": {},
   "outputs": [],
   "source": [
    "# 损失函数为负对数似然（negative log likelihood）\n",
    "MeanAbsoluteError = keras.losses.MeanAbsoluteError()\n",
    "# 负对数似然（negative log likelihood）没用到\n",
    "def negative_log_likelihood(y_true, y_pred, eps=1e-15):\n",
    "    p = keras.backend.clip(y_pred, eps, 1-eps)\n",
    "    loss = keras.backend.sum(-y_true * keras.backend.log(p) - (1-y_true) * keras.backend.log(1-p))\n",
    "    return keras.backend.mean(loss)\n",
    "\n",
    "\n",
    "losses = MeanAbsoluteError"
   ]
  },
  {
   "cell_type": "code",
   "execution_count": null,
   "metadata": {},
   "outputs": [],
   "source": [
    "# 编译模块\n",
    "Adam = keras.optimizers.Adam(learning_rate=5e-6)\n",
    "\n",
    "udn_model.compile(\n",
    "    loss=losses,\n",
    "    optimizer=Adam,\n",
    ")"
   ]
  },
  {
   "cell_type": "code",
   "execution_count": null,
   "metadata": {
    "tags": []
   },
   "outputs": [],
   "source": [
    "# 训练模块\n",
    "# 在训练时运用mini-batch方法进行小批量梯度、\n",
    "# 对每个小时进行预测\n",
    "# callbacks设置\n",
    "callbacks = keras.callbacks.EarlyStopping(monitor='loss',patience=3)\n",
    "\n",
    "history = udn_model.fit(\n",
    "    X_train,\n",
    "    callbacks=[callbacks],\n",
    ")\n"
   ]
  },
  {
   "cell_type": "code",
   "execution_count": null,
   "metadata": {},
   "outputs": [],
   "source": [
    "print(history.history)"
   ]
  },
  {
   "cell_type": "code",
   "execution_count": null,
   "metadata": {},
   "outputs": [],
   "source": [
    "# 验证模块\n",
    "udn_model.evaluate(\n",
    "    X_eva\n",
    ")"
   ]
  },
  {
   "cell_type": "code",
   "execution_count": null,
   "metadata": {},
   "outputs": [],
   "source": [
    "# 测试模块\n",
    "predict_result = udn_model.predict(\n",
    "    X_test\n",
    ")"
   ]
  },
  {
   "cell_type": "code",
   "execution_count": null,
   "metadata": {},
   "outputs": [],
   "source": [
    "# 预测和真实值的对比\n",
    "y1 = y_test[120:144]\n",
    "y2 = predict_result[120:144]\n",
    "x = np.linspace(1,24,24)\n",
    "\n",
    "plt.plot(x, y1, color='r', label='ture')\n",
    "plt.plot(x, y2, '--', color='g', label='test')\n",
    "plt.show()"
   ]
  },
  {
   "cell_type": "code",
   "execution_count": null,
   "metadata": {},
   "outputs": [],
   "source": [
    "# 误差率图像\n",
    "result_error = (y2 - y1) / y1\n",
    "x = np.linspace(1,24,24)\n",
    "zero = np.zeros(24)\n",
    "\n",
    "plt.plot(x, result_error, color='r')\n",
    "plt.plot(x, zero, '--', color='g')\n",
    "plt.show()"
   ]
  },
  {
   "cell_type": "code",
   "execution_count": null,
   "metadata": {},
   "outputs": [],
   "source": []
  }
 ]
}