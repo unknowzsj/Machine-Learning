{
 "metadata": {
  "language_info": {
   "codemirror_mode": {
    "name": "ipython",
    "version": 3
   },
   "file_extension": ".py",
   "mimetype": "text/x-python",
   "name": "python",
   "nbconvert_exporter": "python",
   "pygments_lexer": "ipython3",
   "version": "3.7.9-final"
  },
  "orig_nbformat": 2,
  "kernelspec": {
   "name": "python3",
   "display_name": "Python 3.7.9 64-bit ('tf2': conda)",
   "metadata": {
    "interpreter": {
     "hash": "865b91303c0655b63e42c5d03cbd424f89ab1078fc8eeb577e3059958e267924"
    }
   }
  }
 },
 "nbformat": 4,
 "nbformat_minor": 2,
 "cells": [
  {
   "cell_type": "code",
   "execution_count": 39,
   "metadata": {},
   "outputs": [],
   "source": [
    "# 包导入\n",
    "import tensorflow as tf \n",
    "from tensorflow import keras\n",
    "import keras.backend as K"
   ]
  },
  {
   "cell_type": "code",
   "execution_count": 41,
   "metadata": {},
   "outputs": [],
   "source": [
    "# CNN模块创建\n",
    "udn_model = keras.models.Sequential([\n",
    "    keras.layers.Conv2D(128, 2, activation=\"relu\", padding=\"same\",\n",
    "                         input_shape=[24, 4, 1]),\n",
    "    keras.layers.Conv2D(64, 2, activation=\"relu\", padding=\"same\"),\n",
    "    keras.layers.Conv2D(32, 2, activation=\"relu\", padding=\"same\"),\n",
    "    keras.layers.Conv2D(32, 2, activation=\"relu\", padding=\"same\"),\n",
    "    keras.layers.MaxPool2D(2),\n",
    "    keras.layers.Conv2D(16, 2, activation=\"relu\", padding=\"same\"),\n",
    "    keras.layers.Flatten(),\n",
    "    keras.layers.Dense(128, activation=\"relu\"),\n",
    "    keras.layers.Dropout(0.5),\n",
    "    keras.layers.Dense(1, activation=\"relu\")\n",
    "])\n"
   ]
  },
  {
   "cell_type": "code",
   "execution_count": 42,
   "metadata": {},
   "outputs": [],
   "source": [
    "# 数据处理\n",
    "# 在训练时运用mini-batch方法进行小批量梯度\n"
   ]
  },
  {
   "cell_type": "code",
   "execution_count": null,
   "metadata": {},
   "outputs": [],
   "source": [
    "# 损失函数为负对数似然（negative log likelihood）\n",
    "def negative_log_likelihood(y_true, y_pred, eps=1e-15):\n",
    "    "
   ]
  },
  {
   "cell_type": "code",
   "execution_count": 43,
   "metadata": {},
   "outputs": [
    {
     "output_type": "error",
     "ename": "AttributeError",
     "evalue": "'Sequential' object has no attribute 'compli'",
     "traceback": [
      "\u001b[1;31m---------------------------------------------------------------------------\u001b[0m",
      "\u001b[1;31mAttributeError\u001b[0m                            Traceback (most recent call last)",
      "\u001b[1;32m<ipython-input-43-464ed534197b>\u001b[0m in \u001b[0;36m<module>\u001b[1;34m\u001b[0m\n\u001b[0;32m      1\u001b[0m \u001b[1;31m# 运行模块并训练\u001b[0m\u001b[1;33m\u001b[0m\u001b[1;33m\u001b[0m\u001b[1;33m\u001b[0m\u001b[0m\n\u001b[1;32m----> 2\u001b[1;33m \u001b[0mudn_model\u001b[0m\u001b[1;33m.\u001b[0m\u001b[0mcompli\u001b[0m\u001b[1;33m\u001b[0m\u001b[1;33m\u001b[0m\u001b[0m\n\u001b[0m",
      "\u001b[1;31mAttributeError\u001b[0m: 'Sequential' object has no attribute 'compli'"
     ]
    }
   ],
   "source": [
    "# 运行模块并训练\n",
    "SGD = keras.optimizers.SGD(lr=0.2, momentum=0.9, decay=0.01)\n",
    "udn_model.complie(\n",
    "    loss=,\n",
    "    optimizer=SGD,\n",
    "\n",
    ")"
   ]
  }
 ]
}